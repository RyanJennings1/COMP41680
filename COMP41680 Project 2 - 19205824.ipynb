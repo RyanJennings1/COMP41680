{
 "cells": [
  {
   "cell_type": "markdown",
   "metadata": {},
   "source": [
    "# COMP41680 - Ryan Jennings 19205824"
   ]
  },
  {
   "cell_type": "markdown",
   "metadata": {},
   "source": [
    "Import the standard packages for working with data for plotting and analysis"
   ]
  },
  {
   "cell_type": "code",
   "execution_count": 59,
   "metadata": {},
   "outputs": [],
   "source": [
    "import csv\n",
    "import re\n",
    "\n",
    "from typing import Any, Dict, List, Tuple\n",
    "\n",
    "import requests\n",
    "\n",
    "import seaborn as sns\n",
    "import pandas as pd\n",
    "import numpy as np\n",
    "import matplotlib.pyplot as plt # Ensure matplotlib version is > 3.1.1 or the plots will be offcentre\n",
    "\n",
    "from bs4 import BeautifulSoup\n",
    "from nltk.stem import WordNetLemmatizer\n",
    "from sklearn.feature_extraction.text import CountVectorizer\n",
    "from sklearn.feature_extraction.text import TfidfVectorizer\n",
    "from sklearn.metrics import accuracy_score, confusion_matrix\n",
    "from sklearn.model_selection import train_test_split\n",
    "from sklearn.naive_bayes import MultinomialNB\n",
    "from sklearn.neighbors import KNeighborsClassifier\n",
    "\n",
    "# Use seaborn style plots\n",
    "sns.set()\n",
    "\n",
    "JsonType = Dict[str, Any]"
   ]
  },
  {
   "cell_type": "markdown",
   "metadata": {},
   "source": [
    "## Task 1\n",
    "The 3 review categories I chose were:\n",
    "- Gym\n",
    "- Hotels\n",
    "- Restaurants"
   ]
  },
  {
   "cell_type": "code",
   "execution_count": 3,
   "metadata": {},
   "outputs": [],
   "source": [
    "def scrape_review(title: str) -> JsonType:\n",
    "    \"\"\"\n",
    "    Scrape a review from the given samples based on category name\n",
    "\n",
    "    Keyword arguments:\n",
    "    title: str - The category name to scrape reviews for\n",
    "\n",
    "    Return: JsonType - List of reviews in Dicts\n",
    "    \"\"\"\n",
    "    scraped_data: JsonType = []\n",
    "    home_url: str = \"http://mlg.ucd.ie/modules/yalp/\"\n",
    "    url_map: Dict[str, str] = get_title_to_link_map(url=home_url)\n",
    "\n",
    "    res = requests.get(f\"{home_url}{url_map[title]}\")\n",
    "    category_page_soup = BeautifulSoup(res.text, 'html.parser')\n",
    "    # Find all business links from the category\n",
    "    review_links_page = category_page_soup.find_all('a', href=True)\n",
    "    review_links: List[str] = [link['href'] for link in review_links_page][1:]\n",
    "    for rlink in review_links:\n",
    "        review_page = requests.get(f\"{home_url}{rlink}\")\n",
    "        review_soup = BeautifulSoup(review_page.text, 'html.parser')\n",
    "        # Find all individual reviews for the business\n",
    "        reviews = review_soup.find_all(\"div\", class_=\"review\")\n",
    "\n",
    "        # Seperate into text and rating (positive/negative)\n",
    "        for review in reviews:\n",
    "            review_rating = review.find('p', class_=\"rating\").find('img')['alt'][0]\n",
    "            review_text = review.find('p', class_=\"review-text\")\n",
    "            scraped_data.append({\n",
    "                'text': review_text.text,\n",
    "                'rating': (1 if int(review_rating) > 3 else 0) # 1 for a positive review, 0 for a negative review\n",
    "            })\n",
    "    return scraped_data\n",
    "\n",
    "def get_title_to_link_map(url: str) -> Dict[str, str]:\n",
    "    \"\"\"\n",
    "    For the main page get the title names and their corresponding links\n",
    "\n",
    "    Keyword arguments:\n",
    "    url: str - The base url for the category page\n",
    "\n",
    "    Return: Dict[str, str] - Map of category names to category links\n",
    "    \"\"\"\n",
    "    res = requests.get(url)\n",
    "    html_soup: BeautifulSoup = BeautifulSoup(res.text, 'html.parser')\n",
    "    links = html_soup.find_all('a', href=True)\n",
    "    return {re.sub('Category: ', '', link.get_text()): link['href'] for link in links}"
   ]
  },
  {
   "cell_type": "code",
   "execution_count": 4,
   "metadata": {},
   "outputs": [],
   "source": [
    "def write_scraped_data_to_csv(data: JsonType, file_name: str) -> None:\n",
    "    \"\"\"\n",
    "    Write the ratings data into a csv file\n",
    "\n",
    "    Keyword arguments:\n",
    "    data: JsonType - List of rating Dicts to write to a csv file\n",
    "    file_name: str - The name of the file to store the data in\n",
    "\n",
    "    Return: None\n",
    "    \"\"\"\n",
    "    with open(file_name, 'w') as csv_file:\n",
    "        csv_writer = csv.DictWriter(csv_file, ['text', 'rating'], delimiter=',')\n",
    "        csv_writer.writeheader()\n",
    "        for row in data:\n",
    "            csv_writer.writerow(row)"
   ]
  },
  {
   "cell_type": "markdown",
   "metadata": {},
   "source": [
    "Call the scrape functions for the 3 selected topics"
   ]
  },
  {
   "cell_type": "code",
   "execution_count": 5,
   "metadata": {},
   "outputs": [],
   "source": [
    "gym_data = scrape_review('Gym')"
   ]
  },
  {
   "cell_type": "code",
   "execution_count": 6,
   "metadata": {},
   "outputs": [],
   "source": [
    "hotel_data = scrape_review('Hotels')"
   ]
  },
  {
   "cell_type": "code",
   "execution_count": 7,
   "metadata": {},
   "outputs": [],
   "source": [
    "restaurant_data = scrape_review('Restaurants')"
   ]
  },
  {
   "cell_type": "markdown",
   "metadata": {},
   "source": [
    "Write the scraped data into separate csv files"
   ]
  },
  {
   "cell_type": "code",
   "execution_count": 8,
   "metadata": {},
   "outputs": [],
   "source": [
    "write_scraped_data_to_csv(data=gym_data, file_name='gym.csv')\n",
    "write_scraped_data_to_csv(data=hotel_data, file_name='hotel.csv')\n",
    "write_scraped_data_to_csv(data=restaurant_data, file_name='restaurant.csv')"
   ]
  },
  {
   "cell_type": "markdown",
   "metadata": {},
   "source": [
    "## Task 2\n",
    "For each of the three category datasets:\n",
    "1. From the reviews in this category, apply appropriate preprocessing steps to create a numeric representation of the data, suitable for classification.\n",
    "2. Build a classification model to distinguish between “positive” and “negative” reviews using **one** of the following classifiers:  \n",
    "       Naive Bayes, Logistic Regression, Random Forests\n",
    "3. Test the predictions of the classification model using an appropriate evaluation strategy. Report and discuss the evaluation results in your notebook."
   ]
  },
  {
   "cell_type": "markdown",
   "metadata": {},
   "source": [
    "Start of exploratory data analysis by reading the csv scraped data into dataframes"
   ]
  },
  {
   "cell_type": "code",
   "execution_count": 9,
   "metadata": {},
   "outputs": [],
   "source": [
    "gym_df = pd.read_csv('gym.csv')\n",
    "hotel_df = pd.read_csv('hotel.csv')\n",
    "rest_df = pd.read_csv('restaurant.csv')"
   ]
  },
  {
   "cell_type": "markdown",
   "metadata": {},
   "source": [
    "The gyms on average higher more positive ratings. This could possibly be to the lower demands on gyms that just need to have good equipment and be clean while hotels and restaurants have to have a higher standard of hygiene and provide a high standard of food/facilities.  "
   ]
  },
  {
   "cell_type": "code",
   "execution_count": 10,
   "metadata": {},
   "outputs": [
    {
     "name": "stdout",
     "output_type": "stream",
     "text": [
      "Gyms positive rating percentage: 64.95%\n",
      "Hotels positive rating percentage: 58.80%\n",
      "Restaurants positive rating percentage: 58.10%\n"
     ]
    }
   ],
   "source": [
    "print(f\"Gyms positive rating percentage: {gym_df.mean()[0]*100:.2f}%\")\n",
    "print(f\"Hotels positive rating percentage: {hotel_df.mean()[0]*100:.2f}%\")\n",
    "print(f\"Restaurants positive rating percentage: {rest_df.mean()[0]*100:.2f}%\")"
   ]
  },
  {
   "cell_type": "markdown",
   "metadata": {},
   "source": [
    "We can see in the subplots below the visual representation of the percentage positive ratings"
   ]
  },
  {
   "cell_type": "code",
   "execution_count": 11,
   "metadata": {},
   "outputs": [
    {
     "data": {
      "text/plain": [
       "Text(0.5, 0, 'Negative                                 Positive')"
      ]
     },
     "execution_count": 11,
     "metadata": {},
     "output_type": "execute_result"
    },
    {
     "data": {
      "image/png": "[encoded data removed]",
      "text/plain": [
       "<Figure size 1080x360 with 3 Axes>"
      ]
     },
     "metadata": {
      "needs_background": "light"
     },
     "output_type": "display_data"
    }
   ],
   "source": [
    "fig, (ax0, ax1, ax2) = plt.subplots(ncols=3, constrained_layout=True, figsize=(15, 5))\n",
    "gym_df['rating'].hist(ax=ax0, bins=2, color='blue')\n",
    "hotel_df['rating'].hist(ax=ax1, bins=2,color='red')\n",
    "rest_df['rating'].hist(ax=ax2, bins=2, color='green')\n",
    "\n",
    "ax0.set_ylim([0, 1500])\n",
    "ax1.set_ylim([0, 1500])\n",
    "ax2.set_ylim([0, 1500])\n",
    "ax0.set_title('Negative and Positive Gym Ratings')\n",
    "ax1.set_title('Negative and Positive Hotel Ratings')\n",
    "ax2.set_title('Negative and Positive Restaurant Ratings')\n",
    "ax0.set_xticks([0, 1])\n",
    "ax1.set_xticks([0, 1])\n",
    "ax2.set_xticks([0, 1])\n",
    "ax0.set_xlabel('Negative                                 Positive')\n",
    "ax1.set_xlabel('Negative                                 Positive')\n",
    "ax2.set_xlabel('Negative                                 Positive')"
   ]
  },
  {
   "cell_type": "markdown",
   "metadata": {},
   "source": [
    "The next step is to split up the scraped data into training and testing sets. With this we can evaluate the efficiency of our models by judging the model on our test data which we already know the correct answer for. For this I originally used the built in sklearn train_test_split but the accuracy of the final classification was 10% higher by manually splitting the data"
   ]
  },
  {
   "cell_type": "code",
   "execution_count": 13,
   "metadata": {},
   "outputs": [],
   "source": [
    "def split_data(dataframe: pd.DataFrame, train_size: float = 0.9) -> Tuple[pd.DataFrame, pd.DataFrame, pd.DataFrame, pd.DataFrame]:\n",
    "    \"\"\"\n",
    "    Split the data into training and testing.\n",
    "    I tried with the built-in sklearn `train_test_split` but doing it manually for some reason\n",
    "    produced 10% better classification given the same split\n",
    "    #train_gym_text, test_gym_text, train_gym_rating, test_gym_rating = \\\n",
    "      train_test_split(gym_df['text'], gym_df['rating'], test_size=0.1)\n",
    "\n",
    "    Keyword argument:\n",
    "    dataframe: pd.DataFrame - the DataFrame to split data for\n",
    "    train_size: float - the percentage (out of 1.0) to use for training, default 90%\n",
    "\n",
    "    Return: Tuple[pd.DataFrame, pd.DataFrame, pd.DataFrame, pd.DataFrame] - Return 4 DataFrames split proportionally\n",
    "    \"\"\"\n",
    "    por: int = int(round(dataframe['text'].count() * train_size))\n",
    "    return dataframe['text'][:por], dataframe['text'][por:], dataframe['rating'][:por], dataframe['rating'][por:]"
   ]
  },
  {
   "cell_type": "code",
   "execution_count": 14,
   "metadata": {},
   "outputs": [],
   "source": [
    "train_gym_text, test_gym_text, train_gym_rating, test_gym_rating = split_data(dataframe=gym_df)\n",
    "train_hotel_text, test_hotel_text, train_hotel_rating, test_hotel_rating = split_data(dataframe=hotel_df)\n",
    "train_rest_text, test_rest_text, train_rest_rating, test_rest_rating = split_data(dataframe=rest_df)"
   ]
  },
  {
   "cell_type": "markdown",
   "metadata": {},
   "source": [
    "**Model**  \n",
    "Here we are using a Multinomial Naive Bayes model to accuractely classify the positive and negative reviews. I have choosen Naive Bayes as I have previously made use of logistic regressions and random forests and wanted to increase my experience and knowledge with other classification models. I also found that Naive Bayes provided a high and effective classification accuracy that is detailed further below\n",
    "\n",
    "**Prediction**  \n",
    "For the prediction the model and vectorizer are injected in alone with whatever test text data we want to use and from this we return our predictions. After vectorizing our test text we simply just predict its rating using our model."
   ]
  },
  {
   "cell_type": "code",
   "execution_count": 60,
   "metadata": {},
   "outputs": [],
   "source": [
    "def generate_model(train_text: pd.DataFrame, train_rating: pd.DataFrame) -> Tuple[MultinomialNB, TfidfVectorizer]:\n",
    "    \"\"\"\n",
    "    Generate the predictions based on the training data\n",
    "\n",
    "    Keyword arguments:\n",
    "    train_text: pd.DataFrame - The dataframe text for training\n",
    "    train_rating: pd.DataFrame - The dataframe ratings for training\n",
    "\n",
    "    Return:\n",
    "    MultinomialNB - fitted Naive Bayes model\n",
    "    TfidfVectorizer - Vectorizer that converts the document to a matrix of TF-IDF features\n",
    "    \"\"\"\n",
    "    vectorizer = TfidfVectorizer(stop_words=\"english\", min_df=10)\n",
    "\n",
    "    train_X = vectorizer.fit_transform(train_text)\n",
    "    train_Y = train_rating\n",
    "    # print(f\"Train data shape after vectorising: {train_X.shape}\")\n",
    "\n",
    "    model: MultinomialNB = MultinomialNB()\n",
    "    model.fit(train_X, train_Y)\n",
    "    return model, vectorizer\n",
    "\n",
    "def generate_prediction(model: MultinomialNB, vec: TfidfVectorizer, test_text: pd.DataFrame) -> np.ndarray:\n",
    "    \"\"\"\n",
    "    Generate a prediction array for a test text set\n",
    "\n",
    "    Keyword arguments:\n",
    "    model: MultinomialNB - The fitted Naive Bayes model\n",
    "    vec: TfidVectorizer - The vectorizer for the model data\n",
    "    test_text: pd.DataFrame - A dataframe of the test text set\n",
    "\n",
    "    Return: np.ndarray - The predicted ratings from the fitted model\n",
    "    \"\"\"\n",
    "    test_X = vec.transform(test_text)\n",
    "    predicted_rating: np.ndarray = model.predict(test_X)\n",
    "    return predicted_rating"
   ]
  },
  {
   "cell_type": "code",
   "execution_count": 58,
   "metadata": {},
   "outputs": [],
   "source": [
    "gym_model, gym_vec = generate_model(train_text=train_gym_text,\n",
    "                                    train_rating=train_gym_rating)\n",
    "hotel_model, hotel_vec = generate_model(train_text=train_hotel_text,\n",
    "                                        train_rating=train_hotel_rating)\n",
    "rest_model, rest_vec = generate_model(train_text=train_rest_text,\n",
    "                                      train_rating=train_rest_rating)"
   ]
  },
  {
   "cell_type": "code",
   "execution_count": 51,
   "metadata": {},
   "outputs": [],
   "source": [
    "predicted_gym_rating: np.ndarray = generate_prediction(model=gym_model,\n",
    "                                                       vec=gym_vec,\n",
    "                                                       test_text=test_gym_text)\n",
    "predicted_hotel_rating: np.ndarray = generate_prediction(model=hotel_model,\n",
    "                                                         vec=hotel_vec,\n",
    "                                                         test_text=test_hotel_text)\n",
    "predicted_rest_rating: np.ndarray = generate_prediction(model=rest_model,\n",
    "                                                        vec=rest_vec,\n",
    "                                                        test_text=test_rest_text)"
   ]
  },
  {
   "cell_type": "markdown",
   "metadata": {},
   "source": [
    "On the evaluation stage we take the actual ratings and the predicted ratings and see what analysis we can apply to evaluate accuracy. The first is a simple accuracy score that is built into sklearn which returns the percentage accuracy. Following this we produce an sklearn confusion matrix and plot it into a heatmap using seaborn.  \n",
    "Dealing with gyms, hotels and restaurants we don't put too much emphasise on whether we would prefer to have less False Positives or False Negatives as you would for high importance medical programs. Although I have to say that I would prefer more False Negatives than False Positives to ensure you are picking the highest quality service and a bad one doesn't sneak in."
   ]
  },
  {
   "cell_type": "code",
   "execution_count": 72,
   "metadata": {},
   "outputs": [],
   "source": [
    "def evaluate(test_rating: pd.DataFrame, predicted_rating: np.ndarray, title: str = '') -> None:\n",
    "    \"\"\"\n",
    "    Evaluate the model results and display\n",
    "\n",
    "    test_rating: pd.DataFrame - The test ratings for the data\n",
    "\n",
    "    Return: None\n",
    "    \"\"\"\n",
    "    space: str = ' ' if title != '' else ''\n",
    "    # Accuracy\n",
    "    acc = accuracy_score(test_rating, predicted_rating)\n",
    "    print(f\"{title}{space}Review Classification accuracy: {acc:.2f}\")\n",
    "    # Confusion matrix\n",
    "    print(f\"Confusion matrix results: \")\n",
    "    con_matrix: np.ndarray = confusion_matrix(test_rating, predicted_rating)\n",
    "    print(con_matrix)\n",
    "    print(f\"True Negatives: {con_matrix[0][0]}\")\n",
    "    print(f\"False Positives: {con_matrix[0][1]}\")\n",
    "    print(f\"False Negatives: {con_matrix[1][0]}\")\n",
    "    print(f\"True Positives: {con_matrix[1][1]}\")\n",
    "    # Heat map\n",
    "    labels: List[str] = ['Negative', 'Positive']\n",
    "    cm_df: pd.DataFrame = pd.DataFrame(con_matrix, index=labels, columns=labels)\n",
    "    sns.set(font_scale=1.4)\n",
    "    ax = sns.heatmap(cm_df, annot=True, fmt='g')\n",
    "    ax.set(xlabel='Predicted', ylabel='Actual')"
   ]
  },
  {
   "cell_type": "markdown",
   "metadata": {},
   "source": [
    "For the gym reviews we achieved a 90% accuracy score. The test set seems to have a very large percentage of positive tests. The hotel classifier model correctly predict 152/160 (95%) of positives but only 27/40 (68%) of negatives. This might be due to the lower amount of negative reviews to train on. Having a larger number of negative reviews could reduce the number of False Positives in our model"
   ]
  },
  {
   "cell_type": "code",
   "execution_count": 73,
   "metadata": {},
   "outputs": [
    {
     "name": "stdout",
     "output_type": "stream",
     "text": [
      "Gym Review Classification accuracy: 0.90\n",
      "Confusion matrix results: \n",
      "[[ 27  13]\n",
      " [  8 152]]\n",
      "True Negatives: 27\n",
      "False Positives: 13\n",
      "False Negatives: 8\n",
      "True Positives: 152\n"
     ]
    },
    {
     "data": {
      "image/png": "[encoded data removed]",
      "text/plain": [
       "<Figure size 432x288 with 2 Axes>"
      ]
     },
     "metadata": {},
     "output_type": "display_data"
    }
   ],
   "source": [
    "evaluate(test_rating=test_gym_rating, predicted_rating=predicted_gym_rating, title='Gym')"
   ]
  },
  {
   "cell_type": "markdown",
   "metadata": {},
   "source": [
    "Moving onto the hotel data, the accuracy roughly matched the gym model accuracy, at 89%. The confusion matrix for hotels appears more accurate, possibly due to the increased amount of negative reviews for training. On the test data the model had a 125/138 (91%) accuracy for positive reviews and a 53/62 (85%) accuracy for negative reviews. This model is a lot more balanced and closer to what we are looking for in an ideal classification system."
   ]
  },
  {
   "cell_type": "code",
   "execution_count": 76,
   "metadata": {},
   "outputs": [
    {
     "name": "stdout",
     "output_type": "stream",
     "text": [
      "Hotel Review Classification accuracy: 0.89\n",
      "Confusion matrix results: \n",
      "[[ 53   9]\n",
      " [ 13 125]]\n",
      "True Negatives: 53\n",
      "False Positives: 9\n",
      "False Negatives: 13\n",
      "True Positives: 125\n"
     ]
    },
    {
     "data": {
      "image/png": "[encoded data removed]",
      "text/plain": [
       "<Figure size 432x288 with 2 Axes>"
      ]
     },
     "metadata": {},
     "output_type": "display_data"
    }
   ],
   "source": [
    "evaluate(test_rating=test_hotel_rating, predicted_rating=predicted_hotel_rating, title='Hotel')"
   ]
  },
  {
   "cell_type": "markdown",
   "metadata": {},
   "source": [
    "Finally the 3rd category, the restaurant dataset. This category had the lowest accuracy. The lower accuracy may be expecting when taking into account the finesse involved with restaurant ratings where the majority of the rating goes to the quality of the food. On top of this everyone considering themselves a self styled food critic would lead to more diverse reviews with more diverse language particularly food centric words that appear in multiple documents but don't convey a positive or negative message which could affect false positives and false negatives.  \n",
    "Below in the output of the evaluae method we see that the restaurant model achived an 84% accuracy score with 97/10"
   ]
  },
  {
   "cell_type": "code",
   "execution_count": 78,
   "metadata": {},
   "outputs": [
    {
     "name": "stdout",
     "output_type": "stream",
     "text": [
      "Restaurant Review Classification accuracy: 0.84\n",
      "Confusion matrix results: \n",
      "[[72 26]\n",
      " [ 5 97]]\n",
      "True Negatives: 72\n",
      "False Positives: 26\n",
      "False Negatives: 5\n",
      "True Positives: 97\n"
     ]
    },
    {
     "data": {
      "image/png": "[encoded data removed]",
      "text/plain": [
       "<Figure size 432x288 with 2 Axes>"
      ]
     },
     "metadata": {},
     "output_type": "display_data"
    }
   ],
   "source": [
    "evaluate(test_rating=test_rest_rating, predicted_rating=predicted_rest_rating, title='Restaurant')"
   ]
  },
  {
   "cell_type": "markdown",
   "metadata": {},
   "source": [
    "## Task 3\n",
    "Evaluate the performance of each of your three classification models when applied to data from the other two selected categories. That is, for the selected categories (A, B, C), run the experiments:\n",
    "1. Train a classification model on the performance on data from “Category A”. Evaluate its performance on data from \"Category B” and data from “Category C”.  \n",
    "2. Train a classification model on the performance on data from “Category B”. Evaluate its performance on data from \"Category A” and data from “Category C”.  \n",
    "3. Train a classification model on the performance on data from “Category C”. Evaluate its performance on data from \"Category A” and data from “Category B”.  \n"
   ]
  },
  {
   "cell_type": "code",
   "execution_count": 20,
   "metadata": {},
   "outputs": [],
   "source": [
    "# Evaluate the Gym model predictions on the Hotel and Restaurant data"
   ]
  },
  {
   "cell_type": "code",
   "execution_count": 21,
   "metadata": {},
   "outputs": [],
   "source": [
    "# Evaluate the Hotel model predictions on the Gym and Restaurant data"
   ]
  },
  {
   "cell_type": "code",
   "execution_count": 22,
   "metadata": {},
   "outputs": [],
   "source": [
    "# Evaluate the Restaurant model predictions on the Gym and Hotel data"
   ]
  },
  {
   "cell_type": "code",
   "execution_count": null,
   "metadata": {},
   "outputs": [],
   "source": []
  }
 ],
 "metadata": {
  "kernelspec": {
   "display_name": "Python 3",
   "language": "python",
   "name": "python3"
  },
  "language_info": {
   "codemirror_mode": {
    "name": "ipython",
    "version": 3
   },
   "file_extension": ".py",
   "mimetype": "text/x-python",
   "name": "python",
   "nbconvert_exporter": "python",
   "pygments_lexer": "ipython3",
   "version": "3.7.4"
  }
 },
 "nbformat": 4,
 "nbformat_minor": 2
}
