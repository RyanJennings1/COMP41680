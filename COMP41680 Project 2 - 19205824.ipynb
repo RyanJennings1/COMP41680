{
 "cells": [
  {
   "cell_type": "markdown",
   "metadata": {},
   "source": [
    "# COMP41680 - Ryan Jennings 19205824\n",
    "### Tasks:\n",
    "In this assignment you should complete all of the following tasks:\n",
    "1. Select **three** review categories of your choice. Scrape all reviews for each category and store them as three separate datasets. For each review, you should store the review text and a class label (i.e. whether the review is “positive” or “negative”).\n",
    "2. For each of the three category datasets:\n",
    "a. From the reviews in this category, apply appropriate preprocessing steps to create a numeric representation of the data, suitable for classification.\n",
    "b. Build a classification model to distinguish between “positive” and “negative” reviews using **one** of the following classifiers:\n",
    "Naive Bayes, Logistic Regression, Random Forests\n",
    "c. Test the predictions of the classification model using an appropriate evaluation strategy. Report and discuss the evaluation results in your notebook.\n",
    "3. Evaluate the performance of each of your three classification models when applied to data from the other two selected categories. That is, for the selected categories (A,B,C), run the experiments:\n",
    "   a. Train a classification model on the performance on data from “Category\n",
    "b. Train a classification model on the performance on data from “Category\n",
    "c. Train a classification model on the performance on data from “Category\n",
    "data from “Category A”. Evaluate its B” and data from “Category C”.\n",
    "data from “Category B”. Evaluate its A” and data from “Category C”.\n",
    "data from “Category C”. Evaluate its A” and data from “Category B”."
   ]
  },
  {
   "cell_type": "markdown",
   "metadata": {},
   "source": [
    "Import the standard packages for working with data for plotting and analysis"
   ]
  },
  {
   "cell_type": "code",
   "execution_count": 168,
   "metadata": {},
   "outputs": [],
   "source": [
    "import csv\n",
    "import re\n",
    "\n",
    "from typing import Any, Dict, List, Tuple\n",
    "\n",
    "import requests\n",
    "\n",
    "import seaborn as sns\n",
    "import pandas as pd\n",
    "import numpy as np\n",
    "import matplotlib.pyplot as plt\n",
    "\n",
    "from bs4 import BeautifulSoup\n",
    "from nltk.stem import WordNetLemmatizer\n",
    "from sklearn.feature_extraction.text import CountVectorizer\n",
    "from sklearn.feature_extraction.text import TfidfVectorizer\n",
    "from sklearn.metrics import accuracy_score, confusion_matrix\n",
    "from sklearn.model_selection import train_test_split\n",
    "from sklearn.naive_bayes import MultinomialNB\n",
    "from sklearn.neighbors import KNeighborsClassifier\n",
    "\n",
    "# Use seaborn style plots\n",
    "sns.set()\n",
    "\n",
    "JsonType = Dict[str, Any]"
   ]
  },
  {
   "cell_type": "markdown",
   "metadata": {},
   "source": [
    "## Task 1\n",
    "The 3 review categories I chose were:\n",
    "- Gym\n",
    "- Hotels\n",
    "- Restaurants"
   ]
  },
  {
   "cell_type": "code",
   "execution_count": 8,
   "metadata": {},
   "outputs": [],
   "source": [
    "def scrape_review(title: str) -> JsonType:\n",
    "    \"\"\"\n",
    "    Scrape a review from the given samples based on category name\n",
    "\n",
    "    Keyword arguments:\n",
    "    title: str - The category name to scrape reviews for\n",
    "\n",
    "    Return: JsonType - List of reviews in Dicts\n",
    "    \"\"\"\n",
    "    scraped_data: JsonType = []\n",
    "    home_url: str = \"http://mlg.ucd.ie/modules/yalp/\"\n",
    "    url_map: Dict[str, str] = get_title_to_link_map(url=home_url)\n",
    "\n",
    "    res = requests.get(f\"{home_url}{url_map[title]}\")\n",
    "    category_page_soup = BeautifulSoup(res.text, 'html.parser')\n",
    "    # Find all business links from the category\n",
    "    review_links_page = category_page_soup.find_all('a', href=True)\n",
    "    review_links: List[str] = [link['href'] for link in review_links_page][1:]\n",
    "    for rlink in review_links:\n",
    "        review_page = requests.get(f\"{home_url}{rlink}\")\n",
    "        review_soup = BeautifulSoup(review_page.text, 'html.parser')\n",
    "        # Find all individual reviews for the business\n",
    "        reviews = review_soup.find_all(\"div\", class_=\"review\")\n",
    "\n",
    "        # Seperate into text and rating (positive/negative)\n",
    "        for review in reviews:\n",
    "            review_rating = review.find('p', class_=\"rating\").find('img')['alt'][0]\n",
    "            review_text = review.find('p', class_=\"review-text\")\n",
    "            scraped_data.append({\n",
    "                'text': review_text.text,\n",
    "                'rating': (1 if int(review_rating) > 3 else 0) # 1 for a positive review, 0 for a negative review\n",
    "            })\n",
    "    return scraped_data\n",
    "\n",
    "def get_title_to_link_map(url: str) -> Dict[str, str]:\n",
    "    \"\"\"\n",
    "    For the main page get the title names and their corresponding links\n",
    "\n",
    "    Keyword arguments:\n",
    "    url: str - The base url for the category page\n",
    "\n",
    "    Return: Dict[str, str] - Map of category names to category links\n",
    "    \"\"\"\n",
    "    res = requests.get(url)\n",
    "    html_soup: BeautifulSoup = BeautifulSoup(res.text, 'html.parser')\n",
    "    links = html_soup.find_all('a', href=True)\n",
    "    return {re.sub('Category: ', '', link.get_text()): link['href'] for link in links}"
   ]
  },
  {
   "cell_type": "code",
   "execution_count": 9,
   "metadata": {},
   "outputs": [],
   "source": [
    "def write_scraped_data_to_csv(data: JsonType, file_name: str) -> None:\n",
    "    \"\"\"\n",
    "    Write the ratings data into a csv file\n",
    "\n",
    "    Keyword arguments:\n",
    "    data: JsonType - List of rating Dicts to write to a csv file\n",
    "    file_name: str - The name of the file to store the data in\n",
    "\n",
    "    Return: None\n",
    "    \"\"\"\n",
    "    with open(file_name, 'w') as csv_file:\n",
    "        csv_writer = csv.DictWriter(csv_file, ['text', 'rating'], delimiter=',')\n",
    "        csv_writer.writeheader()\n",
    "        for row in data:\n",
    "            csv_writer.writerow(row)"
   ]
  },
  {
   "cell_type": "markdown",
   "metadata": {},
   "source": [
    "Call the scrape functions for the 3 selected topics"
   ]
  },
  {
   "cell_type": "code",
   "execution_count": 21,
   "metadata": {},
   "outputs": [],
   "source": [
    "gym_data = scrape_review('Gym')"
   ]
  },
  {
   "cell_type": "code",
   "execution_count": 39,
   "metadata": {},
   "outputs": [],
   "source": [
    "hotel_data = scrape_review('Hotels')"
   ]
  },
  {
   "cell_type": "code",
   "execution_count": 40,
   "metadata": {},
   "outputs": [],
   "source": [
    "restaurant_data = scrape_review('Restaurants')"
   ]
  },
  {
   "cell_type": "markdown",
   "metadata": {},
   "source": [
    "Write the scraped data into separate csv files"
   ]
  },
  {
   "cell_type": "code",
   "execution_count": 41,
   "metadata": {},
   "outputs": [],
   "source": [
    "write_scraped_data_to_csv(data=gym_data, file_name='gym.csv')\n",
    "write_scraped_data_to_csv(data=hotel_data, file_name='hotel.csv')\n",
    "write_scraped_data_to_csv(data=restaurant_data, file_name='restaurant.csv')"
   ]
  },
  {
   "cell_type": "markdown",
   "metadata": {},
   "source": [
    "## Task 2\n",
    "For each of the three category datasets:\n",
    "1. From the reviews in this category, apply appropriate preprocessing steps to create a numeric representation of the data, suitable for classification.\n",
    "2. Build a classification model to distinguish between “positive” and “negative” reviews using **one** of the following classifiers:  \n",
    "       Naive Bayes, Logistic Regression, Random Forests\n",
    "3. Test the predictions of the classification model using an appropriate evaluation strategy. Report and discuss the evaluation results in your notebook."
   ]
  },
  {
   "cell_type": "code",
   "execution_count": 176,
   "metadata": {},
   "outputs": [],
   "source": [
    "gym_df = pd.read_csv('gym.csv')\n",
    "hotel_df = pd.read_csv('hotel.csv')\n",
    "rest_df = pd.read_csv('restaurant.csv')"
   ]
  },
  {
   "cell_type": "markdown",
   "metadata": {},
   "source": [
    "The gyms on average higher more positive ratings. This could possibly be to the lower demands on gyms that just need to have good equipment and be clean while hotels and restaurants have to have a higher standard of hygiene and provide a high standard of food/facilities.  "
   ]
  },
  {
   "cell_type": "code",
   "execution_count": 147,
   "metadata": {},
   "outputs": [
    {
     "name": "stdout",
     "output_type": "stream",
     "text": [
      "Gyms positive rating percentage: 64.95%\n",
      "Hotels positive rating percentage: 58.80%\n",
      "Restaurants positive rating percentage: 58.10%\n"
     ]
    }
   ],
   "source": [
    "print(f\"Gyms positive rating percentage: {gym_df.mean()[0]*100:.2f}%\")\n",
    "print(f\"Hotels positive rating percentage: {hotel_df.mean()[0]*100:.2f}%\")\n",
    "print(f\"Restaurants positive rating percentage: {rest_df.mean()[0]*100:.2f}%\")"
   ]
  },
  {
   "cell_type": "code",
   "execution_count": 194,
   "metadata": {},
   "outputs": [
    {
     "data": {
      "text/plain": [
       "Text(0.5, 1.0, 'Negative and Positive Restaurant Ratings')"
      ]
     },
     "execution_count": 194,
     "metadata": {},
     "output_type": "execute_result"
    },
    {
     "data": {
      "image/png": "[encoded data removed]",
      "text/plain": [
       "<Figure size 1080x360 with 3 Axes>"
      ]
     },
     "metadata": {},
     "output_type": "display_data"
    }
   ],
   "source": [
    "fig, (ax0, ax1, ax2) = plt.subplots(ncols=3, constrained_layout=True, figsize=(15, 5))\n",
    "gym_df['rating'].hist(ax=ax0, bins=2, color='blue')\n",
    "hotel_df['rating'].hist(ax=ax1, bins=2,color='red')\n",
    "rest_df['rating'].hist(ax=ax2, bins=2, color='green')\n",
    "\n",
    "ax0.set_ylim([0, 1500])\n",
    "ax1.set_ylim([0, 1500])\n",
    "ax2.set_ylim([0, 1500])\n",
    "ax0.set_title('Negative and Positive Gym Ratings')\n",
    "ax1.set_title('Negative and Positive Hotel Ratings')\n",
    "ax2.set_title('Negative and Positive Restaurant Ratings')"
   ]
  },
  {
   "cell_type": "code",
   "execution_count": 25,
   "metadata": {},
   "outputs": [],
   "source": [
    "# ROC Curve"
   ]
  },
  {
   "cell_type": "markdown",
   "metadata": {},
   "source": [
    "TODO: Talk about the split"
   ]
  },
  {
   "cell_type": "code",
   "execution_count": 204,
   "metadata": {},
   "outputs": [],
   "source": [
    "def split_data(dataframe: pd.DataFrame, train_size: float = 0.9) -> Tuple[pd.DataFrame, pd.DataFrame, pd.DataFrame, pd.DataFrame]:\n",
    "    \"\"\"\n",
    "    Split the data into training and testing.\n",
    "    I tried with the built-in sklearn `train_test_split` but doing it manually for some reason\n",
    "    produced 10% better classification given the same split\n",
    "    #train_gym_text, test_gym_text, train_gym_rating, test_gym_rating = \\\n",
    "      train_test_split(gym_df['text'], gym_df['rating'], test_size=0.1)\n",
    "\n",
    "    Keyword argument:\n",
    "    dataframe: pd.DataFrame - the DataFrame to split data for\n",
    "    train_size: float - the percentage (out of 1.0) to use for training, default 90%\n",
    "\n",
    "    Return: Tuple[pd.DataFrame, pd.DataFrame, pd.DataFrame, pd.DataFrame] - Return 4 DataFrames split proportionally\n",
    "    \"\"\"\n",
    "    por: int = int(round(dataframe['text'].count() * train_size))\n",
    "    return dataframe['text'][:por], dataframe['text'][por:], dataframe['rating'][:por], dataframe['rating'][por:]"
   ]
  },
  {
   "cell_type": "code",
   "execution_count": 205,
   "metadata": {},
   "outputs": [],
   "source": [
    "train_gym_text, test_gym_text, train_gym_rating, test_gym_rating = split_data(dataframe=gym_df)\n",
    "train_hotel_text, test_hotel_text, train_hotel_rating, test_hotel_rating = split_data(dataframe=hotel_df)\n",
    "train_rest_text, test_rest_text, train_rest_rating, test_rest_rating = split_data(dataframe=rest_df)"
   ]
  },
  {
   "cell_type": "markdown",
   "metadata": {},
   "source": []
  },
  {
   "cell_type": "code",
   "execution_count": 226,
   "metadata": {},
   "outputs": [],
   "source": [
    "def generate_model(train_text: pd.DataFrame, train_rating: pd.DataFrame) -> Tuple[MultinomialNB, TfidfVectorizer]:\n",
    "    \"\"\"\n",
    "    Generate the predictions based on the training data\n",
    "\n",
    "    Keyword arguments:\n",
    "    train_text: pd.DataFrame - The dataframe text for training\n",
    "    train_rating: pd.DataFrame - The dataframe ratings for training\n",
    "\n",
    "    Return: MultinomialNB - fitted Naive Bayes model\n",
    "    \"\"\"\n",
    "    vectorizer = TfidfVectorizer(stop_words=\"english\", min_df=5)\n",
    "\n",
    "    train_X = vectorizer.fit_transform(train_text)\n",
    "    train_Y = train_rating\n",
    "    # print(f\"Train data shape after vectorising: {train_X.shape}\")\n",
    "\n",
    "    model: MultinomialNB = MultinomialNB()\n",
    "    model.fit(train_X, train_Y)\n",
    "    return model, vectorizer\n",
    "\n",
    "def generate_prediction(model: MultinomialNB, vec: TfidfVectorizer, test_text: pd.DataFrame) -> np.ndarray:\n",
    "    \"\"\"\n",
    "    Generate a prediction array for a test text set\n",
    "\n",
    "    Keyword arguments:\n",
    "    model: MultinomialNB - The fitted Naive Bayes model\n",
    "    vec: TfidVectorizer - The vectorizer for the model data\n",
    "    test_text: pd.DataFrame - A dataframe of the test text set\n",
    "\n",
    "    Return: np.ndarray - The predicted ratings from the fitted model\n",
    "    \"\"\"\n",
    "    test_X = vec.transform(test_text)\n",
    "    predicted_rating: np.ndarray = model.predict(test_X)\n",
    "    return predicted_rating"
   ]
  },
  {
   "cell_type": "code",
   "execution_count": 227,
   "metadata": {},
   "outputs": [],
   "source": [
    "gym_model, gym_vec = generate_model(train_text=train_gym_text,\n",
    "                                    train_rating=train_gym_rating)\n",
    "hotel_model, hotel_vec = generate_model(train_text=train_hotel_text,\n",
    "                                        train_rating=train_hotel_rating)\n",
    "rest_model, rest_vec = generate_model(train_text=train_rest_text,\n",
    "                                      train_rating=train_rest_rating)"
   ]
  },
  {
   "cell_type": "code",
   "execution_count": 228,
   "metadata": {},
   "outputs": [],
   "source": [
    "predicted_gym_rating: np.ndarray = generate_prediction(model=gym_model,\n",
    "                                                       vec=gym_vec,\n",
    "                                                       test_text=test_gym_text)\n",
    "predicted_hotel_rating: np.ndarray = generate_prediction(model=hotel_model,\n",
    "                                                         vec=hotel_vec,\n",
    "                                                         test_text=test_hotel_text)\n",
    "predicted_rest_rating: np.ndarray = generate_prediction(model=rest_model,\n",
    "                                                        vec=rest_vec,\n",
    "                                                        test_text=test_rest_text)"
   ]
  },
  {
   "cell_type": "code",
   "execution_count": 230,
   "metadata": {},
   "outputs": [
    {
     "name": "stdout",
     "output_type": "stream",
     "text": [
      "Gym Review Classification accuracy: 0.92\n",
      "Hotel Review Classification accuracy: 0.91\n",
      "Restaurant Review Classification accuracy: 0.82\n"
     ]
    }
   ],
   "source": [
    "acc_gym = accuracy_score(test_gym_rating, predicted_gym_rating)\n",
    "acc_hotel = accuracy_score(test_hotel_rating, predicted_hotel_rating)\n",
    "acc_rest = accuracy_score(test_rest_rating, predicted_rest_rating)\n",
    "print(f\"Gym Review Classification accuracy: {acc_gym:.2f}\")\n",
    "print(f\"Hotel Review Classification accuracy: {acc_hotel:.2f}\")\n",
    "print(f\"Restaurant Review Classification accuracy: {acc_rest:.2f}\")"
   ]
  },
  {
   "cell_type": "code",
   "execution_count": 189,
   "metadata": {},
   "outputs": [
    {
     "data": {
      "text/plain": [
       "array([[ 29,  11],\n",
       "       [  5, 155]])"
      ]
     },
     "execution_count": 189,
     "metadata": {},
     "output_type": "execute_result"
    }
   ],
   "source": [
    "# Evaluation\n",
    "# Confusion matrix\n",
    "confusion_matrix(test_gym_Y, gym_predicted)"
   ]
  },
  {
   "cell_type": "code",
   "execution_count": 190,
   "metadata": {},
   "outputs": [
    {
     "data": {
      "text/plain": [
       "1800    I usually go to a different tanning company BU...\n",
       "1801    This review is about my first, ever \"spray tan...\n",
       "1802    I had the BEST experience in spray tanning eve...\n",
       "1803    This place is amazing! I go on Tuesdays during...\n",
       "1804    Wow i know i just stumbled upon the coolest pl...\n",
       "                              ...                        \n",
       "1995    Quad is a wonderful place to exercise. I have ...\n",
       "1996    Fantastic spin place! I'm back in Toronto temp...\n",
       "1997    I started at Quad in January and I have enjoye...\n",
       "1998    I'm taking an 8-week class at Quad right now a...\n",
       "1999    Great for in the winter when I'm not riding my...\n",
       "Name: text, Length: 200, dtype: object"
      ]
     },
     "execution_count": 190,
     "metadata": {},
     "output_type": "execute_result"
    }
   ],
   "source": [
    "test_gym_text"
   ]
  },
  {
   "cell_type": "code",
   "execution_count": 187,
   "metadata": {},
   "outputs": [
    {
     "data": {
      "text/plain": [
       "<matplotlib.axes._subplots.AxesSubplot at 0x11f4bf990>"
      ]
     },
     "execution_count": 187,
     "metadata": {},
     "output_type": "execute_result"
    },
    {
     "data": {
      "image/png": "[encoded data removed]",
      "text/plain": [
       "<Figure size 432x288 with 2 Axes>"
      ]
     },
     "metadata": {},
     "output_type": "display_data"
    }
   ],
   "source": [
    "labels = ['Positive', 'Negative']\n",
    "gym_cm = pd.DataFrame(confusion_matrix(test_gym_Y, gym_predicted), index=labels, columns=labels)\n",
    "sns.heatmap(gym_cm, annot=True)"
   ]
  },
  {
   "cell_type": "markdown",
   "metadata": {},
   "source": [
    "## Task 3\n",
    "Evaluate the performance of each of your three classification models when applied to data from the other two selected categories. That is, for the selected categories (A, B, C), run the experiments:\n",
    "1. Train a classification model on the performance on data from “Category A”. Evaluate its performance on data from \"Category B” and data from “Category C”.  \n",
    "2. Train a classification model on the performance on data from “Category B”. Evaluate its performance on data from \"Category A” and data from “Category C”.  \n",
    "3. Train a classification model on the performance on data from “Category C”. Evaluate its performance on data from \"Category A” and data from “Category B”.  \n"
   ]
  }
 ],
 "metadata": {
  "kernelspec": {
   "display_name": "Python 3",
   "language": "python",
   "name": "python3"
  },
  "language_info": {
   "codemirror_mode": {
    "name": "ipython",
    "version": 3
   },
   "file_extension": ".py",
   "mimetype": "text/x-python",
   "name": "python",
   "nbconvert_exporter": "python",
   "pygments_lexer": "ipython3",
   "version": "3.7.4"
  }
 },
 "nbformat": 4,
 "nbformat_minor": 2
}
